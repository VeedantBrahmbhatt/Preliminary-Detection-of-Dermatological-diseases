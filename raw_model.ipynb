{
  "nbformat": 4,
  "nbformat_minor": 0,
  "metadata": {
    "colab": {
      "provenance": [],
      "authorship_tag": "ABX9TyPYFVHbJSde4G+j4uMvVj0a",
      "include_colab_link": true
    },
    "kernelspec": {
      "name": "python3",
      "display_name": "Python 3"
    },
    "language_info": {
      "name": "python"
    }
  },
  "cells": [
    {
      "cell_type": "markdown",
      "metadata": {
        "id": "view-in-github",
        "colab_type": "text"
      },
      "source": [
        "<a href=\"https://colab.research.google.com/github/virendrasinh734/skin_disease_detection_using_cnns/blob/main/raw_model.ipynb\" target=\"_parent\"><img src=\"https://colab.research.google.com/assets/colab-badge.svg\" alt=\"Open In Colab\"/></a>"
      ]
    },
    {
      "cell_type": "code",
      "execution_count": null,
      "metadata": {
        "id": "ZdukRpIlp5Xh"
      },
      "outputs": [],
      "source": [
        "import pandas as pd\n",
        "import numpy as np\n",
        "from PIL import Image\n",
        "import numpy as np\n",
        "from sklearn.model_selection import train_test_split\n",
        "import tensorflow as tf\n",
        "from tensorflow import keras\n",
        "from keras import Sequential\n",
        "from keras.layers import Flatten, Dense\n",
        "\n",
        "# Load the labels CSV\n",
        "labels_df = pd.read_csv('result.csv')\n",
        "labels_df=labels_df[:1000]\n",
        "class_labels = labels_df.columns[1:]\n",
        "image_filenames = labels_df['image']\n",
        "for i in range(len(image_filenames)):\n",
        "    image_filenames[i] = image_filenames[i] + \".jpg\"\n",
        "\n",
        "labels = labels_df[class_labels].values\n",
        "X_train, X_val, y_train, y_val = train_test_split(image_filenames, labels, test_size=0.2, random_state=42)\n",
        "\n",
        "# Define a custom data generator for preprocessing\n",
        "def custom_data_generator(image_paths, labels, batch_size, target_size=(224, 224)):\n",
        "    num_samples = len(image_paths)\n",
        "    while True:\n",
        "        for i in range(0, num_samples, batch_size):\n",
        "            batch_image_paths = image_paths[i:i + batch_size]\n",
        "            batch_labels = labels[i:i + batch_size]\n",
        "            batch_images = [preprocess_image(image_path, target_size) for image_path in batch_image_paths]\n",
        "            yield np.array(batch_images), batch_labels\n",
        "\n",
        "def preprocess_image(image_path, target_size=(224, 224)):\n",
        "    img = Image.open('./ISIC_2019_Training_Input./' + image_path)\n",
        "    img = img.resize(target_size)\n",
        "    img_array = np.array(img) / 255.0\n",
        "    return img_array\n",
        "\n",
        "batch_size = 16\n",
        "train_data_generator = custom_data_generator(X_train, y_train, batch_size)\n",
        "val_data_generator = custom_data_generator(X_val, y_val, batch_size)\n",
        "\n",
        "# base_model = tf.keras.applications.vgg16.VGG16(weights='imagenet')\n",
        "model = Sequential()\n",
        "model.add(Conv2D(256, (3, 3), activation=\"relu\", input_shape=(224, 224, 3)))\n",
        "model.add(MaxPool2D(pool_size=(2, 2)))\n",
        "model.add(Dropout(0.3))\n",
        "\n",
        "model.add(Conv2D(128, (3, 3),activation='relu'))\n",
        "model.add(MaxPool2D(pool_size=(2, 2)))\n",
        "model.add(Dropout(0.3))\n",
        "\n",
        "model.add(Conv2D(64, (3, 3),activation='relu'))\n",
        "model.add(MaxPool2D(pool_size=(2, 2)))\n",
        "model.add(Dropout(0.3))\n",
        "model.add(Flatten())\n",
        "\n",
        "# model.add(base_model)\n",
        "model.add(Flatten())\n",
        "model.add(Dense(512, activation='relu'))\n",
        "model.add(Dense(256, activation='relu'))\n",
        "model.add(Dense(9,activation='softmax'))\n",
        "base_model.trainable=False\n",
        "model.compile(loss='categorical_crossentropy',\n",
        "              optimizer='Adam',\n",
        "              metrics=['accuracy'])\n",
        "\n",
        "\n",
        "epochs = 4\n",
        "steps_per_epoch = len(X_train) // batch_size\n",
        "validation_steps = len(X_val) // batch_size\n",
        "\n",
        "history = model.fit(train_data_generator,\n",
        "                    epochs=epochs,\n",
        "                    steps_per_epoch=steps_per_epoch,\n",
        "                    validation_data=val_data_generator,\n",
        "                    validation_steps=validation_steps)\n",
        "\n",
        "\n"
      ]
    }
  ]
}